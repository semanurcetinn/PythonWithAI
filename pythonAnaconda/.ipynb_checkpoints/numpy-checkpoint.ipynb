{
 "cells": [
  {
   "cell_type": "markdown",
   "id": "c4d9ecd6-514f-4105-9853-1267551114e0",
   "metadata": {},
   "source": [
    "Numpy (Numeric Python)"
   ]
  },
  {
   "cell_type": "code",
   "execution_count": 5,
   "id": "8c56da7c-35dc-4dd1-b6e7-2eb7b9ece3f8",
   "metadata": {},
   "outputs": [
    {
     "name": "stdout",
     "output_type": "stream",
     "text": [
      "Requirement already satisfied: numpy in c:\\users\\user\\anaconda3\\lib\\site-packages (1.23.5)\n"
     ]
    }
   ],
   "source": [
    "!pip install numpy"
   ]
  },
  {
   "cell_type": "code",
   "execution_count": 7,
   "id": "78620467-0f67-45d8-9f8a-af0277fc0d0f",
   "metadata": {},
   "outputs": [
    {
     "data": {
      "text/plain": [
       "array([10, 20, 30, 40, 50])"
      ]
     },
     "execution_count": 7,
     "metadata": {},
     "output_type": "execute_result"
    }
   ],
   "source": [
    "import numpy as np\n",
    "\n",
    "n1 = np.array([10,20,30,40,50])\n",
    "n1"
   ]
  },
  {
   "cell_type": "code",
   "execution_count": 9,
   "id": "a8c39412-e6ee-4b26-8755-143634bd55e1",
   "metadata": {},
   "outputs": [
    {
     "data": {
      "text/plain": [
       "[1, 2, 3, 4, 5]"
      ]
     },
     "execution_count": 9,
     "metadata": {},
     "output_type": "execute_result"
    }
   ],
   "source": [
    "p1 = [1,2,3,4,5]\n",
    "p1"
   ]
  },
  {
   "cell_type": "code",
   "execution_count": 11,
   "id": "c9540be6-c391-4aae-a92d-7fee9f96586e",
   "metadata": {},
   "outputs": [
    {
     "data": {
      "text/plain": [
       "numpy.ndarray"
      ]
     },
     "execution_count": 11,
     "metadata": {},
     "output_type": "execute_result"
    }
   ],
   "source": [
    "type(n1)"
   ]
  },
  {
   "cell_type": "code",
   "execution_count": 13,
   "id": "53f6e929-440c-45d9-9aeb-53f4680e872c",
   "metadata": {},
   "outputs": [
    {
     "data": {
      "text/plain": [
       "list"
      ]
     },
     "execution_count": 13,
     "metadata": {},
     "output_type": "execute_result"
    }
   ],
   "source": [
    "type(p1)"
   ]
  },
  {
   "cell_type": "code",
   "execution_count": 15,
   "id": "581e390a-c314-42fc-97b6-5640931dc120",
   "metadata": {},
   "outputs": [],
   "source": [
    "py_list = list(range(1_000_000))\n",
    "np_array = np.array(py_list)"
   ]
  },
  {
   "cell_type": "code",
   "execution_count": 27,
   "id": "6b4e6b57-3086-40ec-b548-a00f2708019f",
   "metadata": {},
   "outputs": [
    {
     "name": "stdout",
     "output_type": "stream",
     "text": [
      "63.1 ms ± 3.61 ms per loop (mean ± std. dev. of 7 runs, 10 loops each)\n"
     ]
    }
   ],
   "source": [
    "%%timeit\n",
    "[x+1 for x in py_list]"
   ]
  },
  {
   "cell_type": "code",
   "execution_count": 28,
   "id": "8aa22c28-97f8-41a2-b0ac-c32d31d7cddf",
   "metadata": {},
   "outputs": [
    {
     "name": "stdout",
     "output_type": "stream",
     "text": [
      "1.11 ms ± 24.3 µs per loop (mean ± std. dev. of 7 runs, 1,000 loops each)\n"
     ]
    }
   ],
   "source": [
    "%%timeit\n",
    "np_array+ 1"
   ]
  },
  {
   "cell_type": "code",
   "execution_count": null,
   "id": "77887d51-6cfd-4cae-8a84-7c3b30164c1d",
   "metadata": {},
   "outputs": [],
   "source": [
    "### scalar, vector, matrix, tensor\n",
    "### 1d, 2d, 3d ndarrayler\n",
    "### transpoz, diskr"
   ]
  }
 ],
 "metadata": {
  "kernelspec": {
   "display_name": "Python [conda env:base] *",
   "language": "python",
   "name": "conda-base-py"
  },
  "language_info": {
   "codemirror_mode": {
    "name": "ipython",
    "version": 3
   },
   "file_extension": ".py",
   "mimetype": "text/x-python",
   "name": "python",
   "nbconvert_exporter": "python",
   "pygments_lexer": "ipython3",
   "version": "3.10.9"
  }
 },
 "nbformat": 4,
 "nbformat_minor": 5
}
