{
 "cells": [
  {
   "cell_type": "code",
   "execution_count": 2,
   "id": "94464aaf",
   "metadata": {},
   "outputs": [
    {
     "name": "stdout",
     "output_type": "stream",
     "text": [
      "Hello world\n"
     ]
    }
   ],
   "source": [
    "print(\"Hello world\")"
   ]
  },
  {
   "cell_type": "code",
   "execution_count": 3,
   "id": "ae6a50c0",
   "metadata": {},
   "outputs": [],
   "source": [
    "import pandas as pd"
   ]
  },
  {
   "cell_type": "markdown",
   "id": "7cc668b7",
   "metadata": {},
   "source": [
    "Veri analizi ve veri manipülasyonu için kullanılan bir kütüphanedir."
   ]
  },
  {
   "cell_type": "markdown",
   "id": "061d4ae2",
   "metadata": {},
   "source": [
    "# Pandas series\n",
    "\n",
    "Tek boyutlu bir dizidir. (exceldeki tek bir sütun gibi)"
   ]
  },
  {
   "cell_type": "code",
   "execution_count": 5,
   "id": "bdfb63f2",
   "metadata": {},
   "outputs": [
    {
     "data": {
      "text/plain": [
       "0    10\n",
       "1    20\n",
       "2    30\n",
       "3    40\n",
       "4    50\n",
       "dtype: int64"
      ]
     },
     "execution_count": 5,
     "metadata": {},
     "output_type": "execute_result"
    }
   ],
   "source": [
    "series1 = pd.Series([10,20,30,40,50])\n",
    "series1"
   ]
  },
  {
   "cell_type": "markdown",
   "id": "2a7b860b",
   "metadata": {},
   "source": [
    "# Pandas DataFrame (Tablo)\n",
    "\n",
    "Birden fazla sütun içeren bir tablodur"
   ]
  },
  {
   "cell_type": "code",
   "execution_count": 8,
   "id": "2f7eb948",
   "metadata": {},
   "outputs": [
    {
     "ename": "SyntaxError",
     "evalue": "closing parenthesis '}' does not match opening parenthesis '[' (1109161216.py, line 1)",
     "output_type": "error",
     "traceback": [
      "\u001b[1;36m  Cell \u001b[1;32mIn[8], line 1\u001b[1;36m\u001b[0m\n\u001b[1;33m    data = { \"Ad\": [\"Ali\", \"Ayşe\", \"Mehmet\", \"Zeynep\", \"Yaş\":[255,30,35,40], \"Şehir\":[\"İstanbul\",\"Ankara\", \"İzmir\",\"Bursa\"]}\u001b[0m\n\u001b[1;37m                                                                                                                           ^\u001b[0m\n\u001b[1;31mSyntaxError\u001b[0m\u001b[1;31m:\u001b[0m closing parenthesis '}' does not match opening parenthesis '['\n"
     ]
    }
   ],
   "source": [
    "data = { \"Ad\": [\"Ali\", \"Ayşe\", \"Mehmet\", \"Zeynep\", \"Yaş\":[255,30,35,40], \"Şehir\":[\"İstanbul\",\"Ankara\", \"İzmir\",\"Bursa\"]}\n",
    "data"
   ]
  },
  {
   "cell_type": "code",
   "execution_count": null,
   "id": "d0d98311",
   "metadata": {},
   "outputs": [],
   "source": []
  }
 ],
 "metadata": {
  "kernelspec": {
   "display_name": "Python 3 (ipykernel)",
   "language": "python",
   "name": "python3"
  },
  "language_info": {
   "codemirror_mode": {
    "name": "ipython",
    "version": 3
   },
   "file_extension": ".py",
   "mimetype": "text/x-python",
   "name": "python",
   "nbconvert_exporter": "python",
   "pygments_lexer": "ipython3",
   "version": "3.10.9"
  }
 },
 "nbformat": 4,
 "nbformat_minor": 5
}
