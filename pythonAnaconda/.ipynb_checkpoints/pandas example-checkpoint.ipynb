{
 "cells": [
  {
   "cell_type": "code",
   "execution_count": 13,
   "id": "08fb62af",
   "metadata": {},
   "outputs": [
    {
     "name": "stdout",
     "output_type": "stream",
     "text": [
      "Hello world\n"
     ]
    }
   ],
   "source": [
    "print(\"Hello world\")"
   ]
  },
  {
   "cell_type": "code",
   "execution_count": 15,
   "id": "d9132466",
   "metadata": {},
   "outputs": [],
   "source": [
    "import pandas as pd"
   ]
  },
  {
   "cell_type": "markdown",
   "id": "b699c431",
   "metadata": {},
   "source": [
    "Veri analizi ve veri manipülasyonu için kullanılan bir kütüphanedir."
   ]
  },
  {
   "cell_type": "markdown",
   "id": "0010b4ea",
   "metadata": {},
   "source": [
    "# Pandas series\n",
    "\n",
    "Tek boyutlu bir dizidir. (exceldeki tek bir sütun gibi)"
   ]
  },
  {
   "cell_type": "code",
   "execution_count": 19,
   "id": "47e03266",
   "metadata": {},
   "outputs": [
    {
     "data": {
      "text/plain": [
       "0    10\n",
       "1    20\n",
       "2    30\n",
       "3    40\n",
       "4    50\n",
       "dtype: int64"
      ]
     },
     "execution_count": 19,
     "metadata": {},
     "output_type": "execute_result"
    }
   ],
   "source": [
    "series1 = pd.Series([10,20,30,40,50])\n",
    "series1"
   ]
  },
  {
   "cell_type": "markdown",
   "id": "a7b30138",
   "metadata": {},
   "source": [
    "# Pandas DataFrame (Tablo)\n",
    "\n",
    "Birden fazla sütun içeren bir tablodur"
   ]
  },
  {
   "cell_type": "code",
   "execution_count": 22,
   "id": "6723f3dd",
   "metadata": {},
   "outputs": [
    {
     "data": {
      "text/plain": [
       "{'Ad': ['Ali', 'Ayşe', 'Mehmet', 'Zeynep'],\n",
       " 'Yaş': [255, 30, 35, 40],\n",
       " 'Şehir': ['İstanbul', 'Ankara', 'İzmir', 'Bursa']}"
      ]
     },
     "execution_count": 22,
     "metadata": {},
     "output_type": "execute_result"
    }
   ],
   "source": [
    "data = { \"Ad\": [\"Ali\", \"Ayşe\", \"Mehmet\", \"Zeynep\"], \"Yaş\":[255,30,35,40], \"Şehir\":[\"İstanbul\",\"Ankara\", \"İzmir\",\"Bursa\"]}\n",
    "data"
   ]
  },
  {
   "cell_type": "code",
   "execution_count": 24,
   "id": "f9faba77",
   "metadata": {},
   "outputs": [
    {
     "data": {
      "text/html": [
       "<div>\n",
       "<style scoped>\n",
       "    .dataframe tbody tr th:only-of-type {\n",
       "        vertical-align: middle;\n",
       "    }\n",
       "\n",
       "    .dataframe tbody tr th {\n",
       "        vertical-align: top;\n",
       "    }\n",
       "\n",
       "    .dataframe thead th {\n",
       "        text-align: right;\n",
       "    }\n",
       "</style>\n",
       "<table border=\"1\" class=\"dataframe\">\n",
       "  <thead>\n",
       "    <tr style=\"text-align: right;\">\n",
       "      <th></th>\n",
       "      <th>Ad</th>\n",
       "      <th>Yaş</th>\n",
       "      <th>Şehir</th>\n",
       "    </tr>\n",
       "  </thead>\n",
       "  <tbody>\n",
       "    <tr>\n",
       "      <th>0</th>\n",
       "      <td>Ali</td>\n",
       "      <td>255</td>\n",
       "      <td>İstanbul</td>\n",
       "    </tr>\n",
       "    <tr>\n",
       "      <th>1</th>\n",
       "      <td>Ayşe</td>\n",
       "      <td>30</td>\n",
       "      <td>Ankara</td>\n",
       "    </tr>\n",
       "    <tr>\n",
       "      <th>2</th>\n",
       "      <td>Mehmet</td>\n",
       "      <td>35</td>\n",
       "      <td>İzmir</td>\n",
       "    </tr>\n",
       "    <tr>\n",
       "      <th>3</th>\n",
       "      <td>Zeynep</td>\n",
       "      <td>40</td>\n",
       "      <td>Bursa</td>\n",
       "    </tr>\n",
       "  </tbody>\n",
       "</table>\n",
       "</div>"
      ],
      "text/plain": [
       "       Ad  Yaş     Şehir\n",
       "0     Ali  255  İstanbul\n",
       "1    Ayşe   30    Ankara\n",
       "2  Mehmet   35     İzmir\n",
       "3  Zeynep   40     Bursa"
      ]
     },
     "execution_count": 24,
     "metadata": {},
     "output_type": "execute_result"
    }
   ],
   "source": [
    "df1 = pd.DataFrame(data)\n",
    "df1"
   ]
  },
  {
   "cell_type": "code",
   "execution_count": 26,
   "id": "442b42c5",
   "metadata": {},
   "outputs": [
    {
     "data": {
      "text/html": [
       "<div>\n",
       "<style scoped>\n",
       "    .dataframe tbody tr th:only-of-type {\n",
       "        vertical-align: middle;\n",
       "    }\n",
       "\n",
       "    .dataframe tbody tr th {\n",
       "        vertical-align: top;\n",
       "    }\n",
       "\n",
       "    .dataframe thead th {\n",
       "        text-align: right;\n",
       "    }\n",
       "</style>\n",
       "<table border=\"1\" class=\"dataframe\">\n",
       "  <thead>\n",
       "    <tr style=\"text-align: right;\">\n",
       "      <th></th>\n",
       "      <th>Sales Person</th>\n",
       "      <th>Country</th>\n",
       "      <th>Product</th>\n",
       "      <th>Date</th>\n",
       "      <th>Amount</th>\n",
       "      <th>Boxes Shipped</th>\n",
       "    </tr>\n",
       "  </thead>\n",
       "  <tbody>\n",
       "    <tr>\n",
       "      <th>0</th>\n",
       "      <td>Jehu Rudeforth</td>\n",
       "      <td>UK</td>\n",
       "      <td>Mint Chip Choco</td>\n",
       "      <td>04-Jan-22</td>\n",
       "      <td>$5,320</td>\n",
       "      <td>180</td>\n",
       "    </tr>\n",
       "    <tr>\n",
       "      <th>1</th>\n",
       "      <td>Van Tuxwell</td>\n",
       "      <td>India</td>\n",
       "      <td>85% Dark Bars</td>\n",
       "      <td>01-Aug-22</td>\n",
       "      <td>$7,896</td>\n",
       "      <td>94</td>\n",
       "    </tr>\n",
       "    <tr>\n",
       "      <th>2</th>\n",
       "      <td>Gigi Bohling</td>\n",
       "      <td>India</td>\n",
       "      <td>Peanut Butter Cubes</td>\n",
       "      <td>07-Jul-22</td>\n",
       "      <td>$4,501</td>\n",
       "      <td>91</td>\n",
       "    </tr>\n",
       "    <tr>\n",
       "      <th>3</th>\n",
       "      <td>Jan Morforth</td>\n",
       "      <td>Australia</td>\n",
       "      <td>Peanut Butter Cubes</td>\n",
       "      <td>27-Apr-22</td>\n",
       "      <td>$12,726</td>\n",
       "      <td>342</td>\n",
       "    </tr>\n",
       "    <tr>\n",
       "      <th>4</th>\n",
       "      <td>Jehu Rudeforth</td>\n",
       "      <td>UK</td>\n",
       "      <td>Peanut Butter Cubes</td>\n",
       "      <td>24-Feb-22</td>\n",
       "      <td>$13,685</td>\n",
       "      <td>184</td>\n",
       "    </tr>\n",
       "    <tr>\n",
       "      <th>...</th>\n",
       "      <td>...</td>\n",
       "      <td>...</td>\n",
       "      <td>...</td>\n",
       "      <td>...</td>\n",
       "      <td>...</td>\n",
       "      <td>...</td>\n",
       "    </tr>\n",
       "    <tr>\n",
       "      <th>1089</th>\n",
       "      <td>Karlen McCaffrey</td>\n",
       "      <td>Australia</td>\n",
       "      <td>Spicy Special Slims</td>\n",
       "      <td>17-May-22</td>\n",
       "      <td>$4,410</td>\n",
       "      <td>323</td>\n",
       "    </tr>\n",
       "    <tr>\n",
       "      <th>1090</th>\n",
       "      <td>Jehu Rudeforth</td>\n",
       "      <td>USA</td>\n",
       "      <td>White Choc</td>\n",
       "      <td>07-Jun-22</td>\n",
       "      <td>$6,559</td>\n",
       "      <td>119</td>\n",
       "    </tr>\n",
       "    <tr>\n",
       "      <th>1091</th>\n",
       "      <td>Ches Bonnell</td>\n",
       "      <td>Canada</td>\n",
       "      <td>Organic Choco Syrup</td>\n",
       "      <td>26-Jul-22</td>\n",
       "      <td>$574</td>\n",
       "      <td>217</td>\n",
       "    </tr>\n",
       "    <tr>\n",
       "      <th>1092</th>\n",
       "      <td>Dotty Strutley</td>\n",
       "      <td>India</td>\n",
       "      <td>Eclairs</td>\n",
       "      <td>28-Jul-22</td>\n",
       "      <td>$2,086</td>\n",
       "      <td>384</td>\n",
       "    </tr>\n",
       "    <tr>\n",
       "      <th>1093</th>\n",
       "      <td>Karlen McCaffrey</td>\n",
       "      <td>India</td>\n",
       "      <td>70% Dark Bites</td>\n",
       "      <td>23-May-22</td>\n",
       "      <td>$5,075</td>\n",
       "      <td>344</td>\n",
       "    </tr>\n",
       "  </tbody>\n",
       "</table>\n",
       "<p>1094 rows × 6 columns</p>\n",
       "</div>"
      ],
      "text/plain": [
       "          Sales Person    Country              Product       Date    Amount  \\\n",
       "0       Jehu Rudeforth         UK      Mint Chip Choco  04-Jan-22   $5,320    \n",
       "1          Van Tuxwell      India        85% Dark Bars  01-Aug-22   $7,896    \n",
       "2         Gigi Bohling      India  Peanut Butter Cubes  07-Jul-22   $4,501    \n",
       "3         Jan Morforth  Australia  Peanut Butter Cubes  27-Apr-22  $12,726    \n",
       "4       Jehu Rudeforth         UK  Peanut Butter Cubes  24-Feb-22  $13,685    \n",
       "...                ...        ...                  ...        ...       ...   \n",
       "1089  Karlen McCaffrey  Australia  Spicy Special Slims  17-May-22   $4,410    \n",
       "1090    Jehu Rudeforth        USA           White Choc  07-Jun-22   $6,559    \n",
       "1091      Ches Bonnell     Canada  Organic Choco Syrup  26-Jul-22     $574    \n",
       "1092    Dotty Strutley      India              Eclairs  28-Jul-22   $2,086    \n",
       "1093  Karlen McCaffrey      India       70% Dark Bites  23-May-22   $5,075    \n",
       "\n",
       "      Boxes Shipped  \n",
       "0               180  \n",
       "1                94  \n",
       "2                91  \n",
       "3               342  \n",
       "4               184  \n",
       "...             ...  \n",
       "1089            323  \n",
       "1090            119  \n",
       "1091            217  \n",
       "1092            384  \n",
       "1093            344  \n",
       "\n",
       "[1094 rows x 6 columns]"
      ]
     },
     "execution_count": 26,
     "metadata": {},
     "output_type": "execute_result"
    }
   ],
   "source": [
    "#CSV dosyası okumak ve bu dosyayı pandas dataframe çevirmek\n",
    "df2 = pd.read_csv(\"Chocolate Sales.csv\")\n",
    "df2"
   ]
  },
  {
   "cell_type": "code",
   "execution_count": 28,
   "id": "e50b278f",
   "metadata": {},
   "outputs": [
    {
     "data": {
      "text/plain": [
       "pandas.core.frame.DataFrame"
      ]
     },
     "execution_count": 28,
     "metadata": {},
     "output_type": "execute_result"
    }
   ],
   "source": [
    "type(df2)"
   ]
  },
  {
   "cell_type": "code",
   "execution_count": 30,
   "id": "cd3168b0",
   "metadata": {},
   "outputs": [
    {
     "data": {
      "text/plain": [
       "pandas.core.frame.DataFrame"
      ]
     },
     "execution_count": 30,
     "metadata": {},
     "output_type": "execute_result"
    }
   ],
   "source": [
    "type(df1)"
   ]
  },
  {
   "cell_type": "code",
   "execution_count": 32,
   "id": "59d8326c",
   "metadata": {},
   "outputs": [
    {
     "data": {
      "text/html": [
       "<div>\n",
       "<style scoped>\n",
       "    .dataframe tbody tr th:only-of-type {\n",
       "        vertical-align: middle;\n",
       "    }\n",
       "\n",
       "    .dataframe tbody tr th {\n",
       "        vertical-align: top;\n",
       "    }\n",
       "\n",
       "    .dataframe thead th {\n",
       "        text-align: right;\n",
       "    }\n",
       "</style>\n",
       "<table border=\"1\" class=\"dataframe\">\n",
       "  <thead>\n",
       "    <tr style=\"text-align: right;\">\n",
       "      <th></th>\n",
       "      <th>Sales Person</th>\n",
       "      <th>Country</th>\n",
       "      <th>Product</th>\n",
       "      <th>Date</th>\n",
       "      <th>Amount</th>\n",
       "      <th>Boxes Shipped</th>\n",
       "    </tr>\n",
       "  </thead>\n",
       "  <tbody>\n",
       "    <tr>\n",
       "      <th>0</th>\n",
       "      <td>Jehu Rudeforth</td>\n",
       "      <td>UK</td>\n",
       "      <td>Mint Chip Choco</td>\n",
       "      <td>04-Jan-22</td>\n",
       "      <td>$5,320</td>\n",
       "      <td>180</td>\n",
       "    </tr>\n",
       "    <tr>\n",
       "      <th>1</th>\n",
       "      <td>Van Tuxwell</td>\n",
       "      <td>India</td>\n",
       "      <td>85% Dark Bars</td>\n",
       "      <td>01-Aug-22</td>\n",
       "      <td>$7,896</td>\n",
       "      <td>94</td>\n",
       "    </tr>\n",
       "    <tr>\n",
       "      <th>2</th>\n",
       "      <td>Gigi Bohling</td>\n",
       "      <td>India</td>\n",
       "      <td>Peanut Butter Cubes</td>\n",
       "      <td>07-Jul-22</td>\n",
       "      <td>$4,501</td>\n",
       "      <td>91</td>\n",
       "    </tr>\n",
       "    <tr>\n",
       "      <th>3</th>\n",
       "      <td>Jan Morforth</td>\n",
       "      <td>Australia</td>\n",
       "      <td>Peanut Butter Cubes</td>\n",
       "      <td>27-Apr-22</td>\n",
       "      <td>$12,726</td>\n",
       "      <td>342</td>\n",
       "    </tr>\n",
       "    <tr>\n",
       "      <th>4</th>\n",
       "      <td>Jehu Rudeforth</td>\n",
       "      <td>UK</td>\n",
       "      <td>Peanut Butter Cubes</td>\n",
       "      <td>24-Feb-22</td>\n",
       "      <td>$13,685</td>\n",
       "      <td>184</td>\n",
       "    </tr>\n",
       "  </tbody>\n",
       "</table>\n",
       "</div>"
      ],
      "text/plain": [
       "     Sales Person    Country              Product       Date    Amount  \\\n",
       "0  Jehu Rudeforth         UK      Mint Chip Choco  04-Jan-22   $5,320    \n",
       "1     Van Tuxwell      India        85% Dark Bars  01-Aug-22   $7,896    \n",
       "2    Gigi Bohling      India  Peanut Butter Cubes  07-Jul-22   $4,501    \n",
       "3    Jan Morforth  Australia  Peanut Butter Cubes  27-Apr-22  $12,726    \n",
       "4  Jehu Rudeforth         UK  Peanut Butter Cubes  24-Feb-22  $13,685    \n",
       "\n",
       "   Boxes Shipped  \n",
       "0            180  \n",
       "1             94  \n",
       "2             91  \n",
       "3            342  \n",
       "4            184  "
      ]
     },
     "execution_count": 32,
     "metadata": {},
     "output_type": "execute_result"
    }
   ],
   "source": [
    "#Sadece ilk 5 kayıt\n",
    "df2.head()"
   ]
  },
  {
   "cell_type": "code",
   "execution_count": 34,
   "id": "318ef5da",
   "metadata": {},
   "outputs": [
    {
     "data": {
      "text/plain": [
       "0        $5,320 \n",
       "1        $7,896 \n",
       "2        $4,501 \n",
       "3       $12,726 \n",
       "4       $13,685 \n",
       "          ...   \n",
       "1089     $4,410 \n",
       "1090     $6,559 \n",
       "1091       $574 \n",
       "1092     $2,086 \n",
       "1093     $5,075 \n",
       "Name: Amount, Length: 1094, dtype: object"
      ]
     },
     "execution_count": 34,
     "metadata": {},
     "output_type": "execute_result"
    }
   ],
   "source": [
    "df2[\"Amount\"]"
   ]
  },
  {
   "cell_type": "code",
   "execution_count": 36,
   "id": "02f5d735",
   "metadata": {},
   "outputs": [
    {
     "data": {
      "text/html": [
       "<div>\n",
       "<style scoped>\n",
       "    .dataframe tbody tr th:only-of-type {\n",
       "        vertical-align: middle;\n",
       "    }\n",
       "\n",
       "    .dataframe tbody tr th {\n",
       "        vertical-align: top;\n",
       "    }\n",
       "\n",
       "    .dataframe thead th {\n",
       "        text-align: right;\n",
       "    }\n",
       "</style>\n",
       "<table border=\"1\" class=\"dataframe\">\n",
       "  <thead>\n",
       "    <tr style=\"text-align: right;\">\n",
       "      <th></th>\n",
       "      <th>Sales Person</th>\n",
       "      <th>Country</th>\n",
       "      <th>Product</th>\n",
       "      <th>Date</th>\n",
       "      <th>Amount</th>\n",
       "      <th>Boxes Shipped</th>\n",
       "    </tr>\n",
       "  </thead>\n",
       "  <tbody>\n",
       "    <tr>\n",
       "      <th>3</th>\n",
       "      <td>Jan Morforth</td>\n",
       "      <td>Australia</td>\n",
       "      <td>Peanut Butter Cubes</td>\n",
       "      <td>27-Apr-22</td>\n",
       "      <td>$12,726</td>\n",
       "      <td>342</td>\n",
       "    </tr>\n",
       "    <tr>\n",
       "      <th>15</th>\n",
       "      <td>Beverie Moffet</td>\n",
       "      <td>Australia</td>\n",
       "      <td>Organic Choco Syrup</td>\n",
       "      <td>26-Jan-22</td>\n",
       "      <td>$6,790</td>\n",
       "      <td>356</td>\n",
       "    </tr>\n",
       "    <tr>\n",
       "      <th>25</th>\n",
       "      <td>Karlen McCaffrey</td>\n",
       "      <td>India</td>\n",
       "      <td>Fruit &amp; Nut Bars</td>\n",
       "      <td>26-Jan-22</td>\n",
       "      <td>$168</td>\n",
       "      <td>321</td>\n",
       "    </tr>\n",
       "    <tr>\n",
       "      <th>29</th>\n",
       "      <td>Dennison Crosswaite</td>\n",
       "      <td>New Zealand</td>\n",
       "      <td>Manuka Honey Choco</td>\n",
       "      <td>15-Jun-22</td>\n",
       "      <td>$5,061</td>\n",
       "      <td>301</td>\n",
       "    </tr>\n",
       "    <tr>\n",
       "      <th>35</th>\n",
       "      <td>Roddy Speechley</td>\n",
       "      <td>USA</td>\n",
       "      <td>Manuka Honey Choco</td>\n",
       "      <td>22-Jul-22</td>\n",
       "      <td>$9,583</td>\n",
       "      <td>315</td>\n",
       "    </tr>\n",
       "    <tr>\n",
       "      <th>...</th>\n",
       "      <td>...</td>\n",
       "      <td>...</td>\n",
       "      <td>...</td>\n",
       "      <td>...</td>\n",
       "      <td>...</td>\n",
       "      <td>...</td>\n",
       "    </tr>\n",
       "    <tr>\n",
       "      <th>1077</th>\n",
       "      <td>Oby Sorrel</td>\n",
       "      <td>Canada</td>\n",
       "      <td>Orange Choco</td>\n",
       "      <td>27-Apr-22</td>\n",
       "      <td>$8,757</td>\n",
       "      <td>338</td>\n",
       "    </tr>\n",
       "    <tr>\n",
       "      <th>1083</th>\n",
       "      <td>Madelene Upcott</td>\n",
       "      <td>New Zealand</td>\n",
       "      <td>Milk Bars</td>\n",
       "      <td>29-Mar-22</td>\n",
       "      <td>$12,558</td>\n",
       "      <td>403</td>\n",
       "    </tr>\n",
       "    <tr>\n",
       "      <th>1089</th>\n",
       "      <td>Karlen McCaffrey</td>\n",
       "      <td>Australia</td>\n",
       "      <td>Spicy Special Slims</td>\n",
       "      <td>17-May-22</td>\n",
       "      <td>$4,410</td>\n",
       "      <td>323</td>\n",
       "    </tr>\n",
       "    <tr>\n",
       "      <th>1092</th>\n",
       "      <td>Dotty Strutley</td>\n",
       "      <td>India</td>\n",
       "      <td>Eclairs</td>\n",
       "      <td>28-Jul-22</td>\n",
       "      <td>$2,086</td>\n",
       "      <td>384</td>\n",
       "    </tr>\n",
       "    <tr>\n",
       "      <th>1093</th>\n",
       "      <td>Karlen McCaffrey</td>\n",
       "      <td>India</td>\n",
       "      <td>70% Dark Bites</td>\n",
       "      <td>23-May-22</td>\n",
       "      <td>$5,075</td>\n",
       "      <td>344</td>\n",
       "    </tr>\n",
       "  </tbody>\n",
       "</table>\n",
       "<p>153 rows × 6 columns</p>\n",
       "</div>"
      ],
      "text/plain": [
       "             Sales Person      Country              Product       Date  \\\n",
       "3            Jan Morforth    Australia  Peanut Butter Cubes  27-Apr-22   \n",
       "15         Beverie Moffet    Australia  Organic Choco Syrup  26-Jan-22   \n",
       "25       Karlen McCaffrey        India     Fruit & Nut Bars  26-Jan-22   \n",
       "29    Dennison Crosswaite  New Zealand   Manuka Honey Choco  15-Jun-22   \n",
       "35        Roddy Speechley          USA   Manuka Honey Choco  22-Jul-22   \n",
       "...                   ...          ...                  ...        ...   \n",
       "1077           Oby Sorrel       Canada         Orange Choco  27-Apr-22   \n",
       "1083      Madelene Upcott  New Zealand            Milk Bars  29-Mar-22   \n",
       "1089     Karlen McCaffrey    Australia  Spicy Special Slims  17-May-22   \n",
       "1092       Dotty Strutley        India              Eclairs  28-Jul-22   \n",
       "1093     Karlen McCaffrey        India       70% Dark Bites  23-May-22   \n",
       "\n",
       "        Amount  Boxes Shipped  \n",
       "3     $12,726             342  \n",
       "15     $6,790             356  \n",
       "25       $168             321  \n",
       "29     $5,061             301  \n",
       "35     $9,583             315  \n",
       "...        ...            ...  \n",
       "1077   $8,757             338  \n",
       "1083  $12,558             403  \n",
       "1089   $4,410             323  \n",
       "1092   $2,086             384  \n",
       "1093   $5,075             344  \n",
       "\n",
       "[153 rows x 6 columns]"
      ]
     },
     "execution_count": 36,
     "metadata": {},
     "output_type": "execute_result"
    }
   ],
   "source": [
    "df2[df2[\"Boxes Shipped\"] > 300]"
   ]
  },
  {
   "cell_type": "code",
   "execution_count": 38,
   "id": "00cbfe4b",
   "metadata": {},
   "outputs": [
    {
     "data": {
      "text/html": [
       "<div>\n",
       "<style scoped>\n",
       "    .dataframe tbody tr th:only-of-type {\n",
       "        vertical-align: middle;\n",
       "    }\n",
       "\n",
       "    .dataframe tbody tr th {\n",
       "        vertical-align: top;\n",
       "    }\n",
       "\n",
       "    .dataframe thead th {\n",
       "        text-align: right;\n",
       "    }\n",
       "</style>\n",
       "<table border=\"1\" class=\"dataframe\">\n",
       "  <thead>\n",
       "    <tr style=\"text-align: right;\">\n",
       "      <th></th>\n",
       "      <th>Sales Person</th>\n",
       "      <th>Country</th>\n",
       "      <th>Product</th>\n",
       "      <th>Date</th>\n",
       "      <th>Amount</th>\n",
       "      <th>Boxes Shipped</th>\n",
       "    </tr>\n",
       "  </thead>\n",
       "  <tbody>\n",
       "    <tr>\n",
       "      <th>0</th>\n",
       "      <td>False</td>\n",
       "      <td>False</td>\n",
       "      <td>False</td>\n",
       "      <td>False</td>\n",
       "      <td>False</td>\n",
       "      <td>False</td>\n",
       "    </tr>\n",
       "    <tr>\n",
       "      <th>1</th>\n",
       "      <td>False</td>\n",
       "      <td>False</td>\n",
       "      <td>False</td>\n",
       "      <td>False</td>\n",
       "      <td>False</td>\n",
       "      <td>False</td>\n",
       "    </tr>\n",
       "    <tr>\n",
       "      <th>2</th>\n",
       "      <td>False</td>\n",
       "      <td>False</td>\n",
       "      <td>False</td>\n",
       "      <td>False</td>\n",
       "      <td>False</td>\n",
       "      <td>False</td>\n",
       "    </tr>\n",
       "    <tr>\n",
       "      <th>3</th>\n",
       "      <td>False</td>\n",
       "      <td>False</td>\n",
       "      <td>False</td>\n",
       "      <td>False</td>\n",
       "      <td>False</td>\n",
       "      <td>False</td>\n",
       "    </tr>\n",
       "    <tr>\n",
       "      <th>4</th>\n",
       "      <td>False</td>\n",
       "      <td>False</td>\n",
       "      <td>False</td>\n",
       "      <td>False</td>\n",
       "      <td>False</td>\n",
       "      <td>False</td>\n",
       "    </tr>\n",
       "    <tr>\n",
       "      <th>...</th>\n",
       "      <td>...</td>\n",
       "      <td>...</td>\n",
       "      <td>...</td>\n",
       "      <td>...</td>\n",
       "      <td>...</td>\n",
       "      <td>...</td>\n",
       "    </tr>\n",
       "    <tr>\n",
       "      <th>1089</th>\n",
       "      <td>False</td>\n",
       "      <td>False</td>\n",
       "      <td>False</td>\n",
       "      <td>False</td>\n",
       "      <td>False</td>\n",
       "      <td>False</td>\n",
       "    </tr>\n",
       "    <tr>\n",
       "      <th>1090</th>\n",
       "      <td>False</td>\n",
       "      <td>False</td>\n",
       "      <td>False</td>\n",
       "      <td>False</td>\n",
       "      <td>False</td>\n",
       "      <td>False</td>\n",
       "    </tr>\n",
       "    <tr>\n",
       "      <th>1091</th>\n",
       "      <td>False</td>\n",
       "      <td>False</td>\n",
       "      <td>False</td>\n",
       "      <td>False</td>\n",
       "      <td>False</td>\n",
       "      <td>False</td>\n",
       "    </tr>\n",
       "    <tr>\n",
       "      <th>1092</th>\n",
       "      <td>False</td>\n",
       "      <td>False</td>\n",
       "      <td>False</td>\n",
       "      <td>False</td>\n",
       "      <td>False</td>\n",
       "      <td>False</td>\n",
       "    </tr>\n",
       "    <tr>\n",
       "      <th>1093</th>\n",
       "      <td>False</td>\n",
       "      <td>False</td>\n",
       "      <td>False</td>\n",
       "      <td>False</td>\n",
       "      <td>False</td>\n",
       "      <td>False</td>\n",
       "    </tr>\n",
       "  </tbody>\n",
       "</table>\n",
       "<p>1094 rows × 6 columns</p>\n",
       "</div>"
      ],
      "text/plain": [
       "      Sales Person  Country  Product   Date  Amount  Boxes Shipped\n",
       "0            False    False    False  False   False          False\n",
       "1            False    False    False  False   False          False\n",
       "2            False    False    False  False   False          False\n",
       "3            False    False    False  False   False          False\n",
       "4            False    False    False  False   False          False\n",
       "...            ...      ...      ...    ...     ...            ...\n",
       "1089         False    False    False  False   False          False\n",
       "1090         False    False    False  False   False          False\n",
       "1091         False    False    False  False   False          False\n",
       "1092         False    False    False  False   False          False\n",
       "1093         False    False    False  False   False          False\n",
       "\n",
       "[1094 rows x 6 columns]"
      ]
     },
     "execution_count": 38,
     "metadata": {},
     "output_type": "execute_result"
    }
   ],
   "source": [
    "df2.isnull()"
   ]
  },
  {
   "cell_type": "code",
   "execution_count": 40,
   "id": "b1c010aa",
   "metadata": {},
   "outputs": [
    {
     "data": {
      "text/plain": [
       "Sales Person     False\n",
       "Country          False\n",
       "Product          False\n",
       "Date             False\n",
       "Amount           False\n",
       "Boxes Shipped    False\n",
       "dtype: bool"
      ]
     },
     "execution_count": 40,
     "metadata": {},
     "output_type": "execute_result"
    }
   ],
   "source": [
    "df2.isnull().any()"
   ]
  },
  {
   "cell_type": "markdown",
   "id": "b9403656",
   "metadata": {},
   "source": [
    "#pandas kütüphanesinde 10 adet fonksiyon araştırılıp kullanım örneği olan bir ipynb dosyası ile paylaşılacak"
   ]
  },
  {
   "cell_type": "code",
   "execution_count": 43,
   "id": "7c10b64f",
   "metadata": {},
   "outputs": [],
   "source": [
    "#Veri ön hazırlığı"
   ]
  },
  {
   "cell_type": "code",
   "execution_count": 71,
   "id": "f56934de-657d-4440-bb2f-243e5bb62e74",
   "metadata": {},
   "outputs": [],
   "source": [
    "df3 = pd.read_csv(\"Chocolate Sales2.csv\")"
   ]
  },
  {
   "cell_type": "code",
   "execution_count": 73,
   "id": "ca386603-5ad1-4570-8343-615dc36cafc9",
   "metadata": {},
   "outputs": [
    {
     "data": {
      "text/plain": [
       "Sales Person      0\n",
       "Country           8\n",
       "Product          10\n",
       "Date              9\n",
       "Amount           11\n",
       "Boxes Shipped     7\n",
       "dtype: int64"
      ]
     },
     "execution_count": 73,
     "metadata": {},
     "output_type": "execute_result"
    }
   ],
   "source": [
    "df3.isnull().sum()"
   ]
  },
  {
   "cell_type": "code",
   "execution_count": 75,
   "id": "2b554b6b-6ea8-4548-80d2-f2e8fa74993f",
   "metadata": {},
   "outputs": [
    {
     "data": {
      "text/plain": [
       "'Australia'"
      ]
     },
     "execution_count": 75,
     "metadata": {},
     "output_type": "execute_result"
    }
   ],
   "source": [
    "df3[\"Country\"].mode()[0]  #en çok tekrar eden değerleri döner"
   ]
  },
  {
   "cell_type": "code",
   "execution_count": 77,
   "id": "58306e63-4f86-4126-9ae4-6f94889332d2",
   "metadata": {},
   "outputs": [],
   "source": [
    "df3[\"Country\"] = df3[\"Country\"].fillna(df3[\"Country\"].mode()[0])"
   ]
  },
  {
   "cell_type": "code",
   "execution_count": 79,
   "id": "f58a85f4-3d42-44d2-8216-171650248910",
   "metadata": {},
   "outputs": [
    {
     "data": {
      "text/plain": [
       "Sales Person      0\n",
       "Country           0\n",
       "Product          10\n",
       "Date              9\n",
       "Amount           11\n",
       "Boxes Shipped     7\n",
       "dtype: int64"
      ]
     },
     "execution_count": 79,
     "metadata": {},
     "output_type": "execute_result"
    }
   ],
   "source": [
    "df3.isnull().sum()"
   ]
  },
  {
   "cell_type": "code",
   "execution_count": 85,
   "id": "6304740a-2f84-40c1-86b7-5d6b3a8180a4",
   "metadata": {},
   "outputs": [
    {
     "data": {
      "text/plain": [
       "Sales Person      0\n",
       "Country           0\n",
       "Product          10\n",
       "Date              9\n",
       "Amount           11\n",
       "Boxes Shipped     0\n",
       "dtype: int64"
      ]
     },
     "execution_count": 85,
     "metadata": {},
     "output_type": "execute_result"
    }
   ],
   "source": [
    "df3[\"Boxes Shipped\"].fillna(df3[\"Boxes Shipped\"].mean(), inplace= True)\n",
    "df3.isnull().sum()"
   ]
  },
  {
   "cell_type": "code",
   "execution_count": 87,
   "id": "6c7ce47a-b22b-4c4a-8b6e-6d6351f2d234",
   "metadata": {},
   "outputs": [
    {
     "data": {
      "text/html": [
       "<div>\n",
       "<style scoped>\n",
       "    .dataframe tbody tr th:only-of-type {\n",
       "        vertical-align: middle;\n",
       "    }\n",
       "\n",
       "    .dataframe tbody tr th {\n",
       "        vertical-align: top;\n",
       "    }\n",
       "\n",
       "    .dataframe thead th {\n",
       "        text-align: right;\n",
       "    }\n",
       "</style>\n",
       "<table border=\"1\" class=\"dataframe\">\n",
       "  <thead>\n",
       "    <tr style=\"text-align: right;\">\n",
       "      <th></th>\n",
       "      <th>Sales Person</th>\n",
       "      <th>Country</th>\n",
       "      <th>Product</th>\n",
       "      <th>Date</th>\n",
       "      <th>Amount</th>\n",
       "      <th>Boxes Shipped</th>\n",
       "    </tr>\n",
       "  </thead>\n",
       "  <tbody>\n",
       "    <tr>\n",
       "      <th>0</th>\n",
       "      <td>Jehu Rudeforth</td>\n",
       "      <td>UK</td>\n",
       "      <td>Mint Chip Choco</td>\n",
       "      <td>04-Jan-22</td>\n",
       "      <td>$5,320</td>\n",
       "      <td>162.062557</td>\n",
       "    </tr>\n",
       "    <tr>\n",
       "      <th>1</th>\n",
       "      <td>Van Tuxwell</td>\n",
       "      <td>India</td>\n",
       "      <td>85% Dark Bars</td>\n",
       "      <td>01-Aug-22</td>\n",
       "      <td>$7,896</td>\n",
       "      <td>94.000000</td>\n",
       "    </tr>\n",
       "    <tr>\n",
       "      <th>2</th>\n",
       "      <td>Gigi Bohling</td>\n",
       "      <td>India</td>\n",
       "      <td>Peanut Butter Cubes</td>\n",
       "      <td>07-Jul-22</td>\n",
       "      <td>$4,501</td>\n",
       "      <td>91.000000</td>\n",
       "    </tr>\n",
       "    <tr>\n",
       "      <th>3</th>\n",
       "      <td>Jan Morforth</td>\n",
       "      <td>Australia</td>\n",
       "      <td>Peanut Butter Cubes</td>\n",
       "      <td>27-Apr-22</td>\n",
       "      <td>$12,726</td>\n",
       "      <td>162.062557</td>\n",
       "    </tr>\n",
       "    <tr>\n",
       "      <th>4</th>\n",
       "      <td>Jehu Rudeforth</td>\n",
       "      <td>UK</td>\n",
       "      <td>Peanut Butter Cubes</td>\n",
       "      <td>24-Feb-22</td>\n",
       "      <td>$13,685</td>\n",
       "      <td>184.000000</td>\n",
       "    </tr>\n",
       "  </tbody>\n",
       "</table>\n",
       "</div>"
      ],
      "text/plain": [
       "     Sales Person    Country              Product       Date    Amount  \\\n",
       "0  Jehu Rudeforth         UK      Mint Chip Choco  04-Jan-22   $5,320    \n",
       "1     Van Tuxwell      India        85% Dark Bars  01-Aug-22   $7,896    \n",
       "2    Gigi Bohling      India  Peanut Butter Cubes  07-Jul-22   $4,501    \n",
       "3    Jan Morforth  Australia  Peanut Butter Cubes  27-Apr-22  $12,726    \n",
       "4  Jehu Rudeforth         UK  Peanut Butter Cubes  24-Feb-22  $13,685    \n",
       "\n",
       "   Boxes Shipped  \n",
       "0     162.062557  \n",
       "1      94.000000  \n",
       "2      91.000000  \n",
       "3     162.062557  \n",
       "4     184.000000  "
      ]
     },
     "execution_count": 87,
     "metadata": {},
     "output_type": "execute_result"
    }
   ],
   "source": [
    "df3.head(5)"
   ]
  },
  {
   "cell_type": "code",
   "execution_count": 89,
   "id": "eb34209f-b712-4a80-9757-cd81e322c5b0",
   "metadata": {},
   "outputs": [
    {
     "data": {
      "text/plain": [
       "0        $5,320 \n",
       "1        $7,896 \n",
       "2        $4,501 \n",
       "3       $12,726 \n",
       "4       $13,685 \n",
       "          ...   \n",
       "1089     $4,410 \n",
       "1090     $6,559 \n",
       "1091       $574 \n",
       "1092     $2,086 \n",
       "1093     $5,075 \n",
       "Name: Amount, Length: 1094, dtype: object"
      ]
     },
     "execution_count": 89,
     "metadata": {},
     "output_type": "execute_result"
    }
   ],
   "source": [
    "df3[\"Amount\"]"
   ]
  },
  {
   "cell_type": "code",
   "execution_count": 93,
   "id": "70e49e92-1052-4aa9-b269-878dcfffdb30",
   "metadata": {},
   "outputs": [
    {
     "data": {
      "text/plain": [
       "0        5320.0\n",
       "1        7896.0\n",
       "2        4501.0\n",
       "3       12726.0\n",
       "4       13685.0\n",
       "         ...   \n",
       "1089     4410.0\n",
       "1090     6559.0\n",
       "1091      574.0\n",
       "1092     2086.0\n",
       "1093     5075.0\n",
       "Name: Amount, Length: 1094, dtype: float64"
      ]
     },
     "execution_count": 93,
     "metadata": {},
     "output_type": "execute_result"
    }
   ],
   "source": [
    "df3[\"Amount\"] = df3[\"Amount\"].astype(str).str.replace(\"[$,]\", \"\", regex = True).astype(float)\n",
    "# $5,320 -> 5320\n",
    "df3[\"Amount\"]"
   ]
  },
  {
   "cell_type": "code",
   "execution_count": 95,
   "id": "655dc161-eb9b-4728-8132-90138eb4f716",
   "metadata": {},
   "outputs": [
    {
     "data": {
      "text/plain": [
       "5667.71837488458"
      ]
     },
     "execution_count": 95,
     "metadata": {},
     "output_type": "execute_result"
    }
   ],
   "source": [
    "df3[\"Amount\"].mean()"
   ]
  },
  {
   "cell_type": "code",
   "execution_count": 101,
   "id": "2d283a84-87ee-4ed7-a587-2d5294a10ae2",
   "metadata": {},
   "outputs": [
    {
     "data": {
      "text/plain": [
       "Sales Person      0\n",
       "Country           0\n",
       "Product          10\n",
       "Date              9\n",
       "Amount            0\n",
       "Boxes Shipped     0\n",
       "dtype: int64"
      ]
     },
     "execution_count": 101,
     "metadata": {},
     "output_type": "execute_result"
    }
   ],
   "source": [
    "df3[\"Amount\"] = df3[\"Amount\"].fillna(df3[\"Amount\"].mean())\n",
    "df3.isnull().sum()"
   ]
  },
  {
   "cell_type": "code",
   "execution_count": 103,
   "id": "2818fd50-965f-4d0d-b647-275e9a41c845",
   "metadata": {},
   "outputs": [
    {
     "data": {
      "text/plain": [
       "Sales Person      0\n",
       "Country           0\n",
       "Product          10\n",
       "Date              0\n",
       "Amount            0\n",
       "Boxes Shipped     0\n",
       "dtype: int64"
      ]
     },
     "execution_count": 103,
     "metadata": {},
     "output_type": "execute_result"
    }
   ],
   "source": [
    "#forwardfill backwaardfill\n",
    "df3[\"Date\"] = df3[\"Date\"].ffill().bfill()\n",
    "df3.isnull().sum()"
   ]
  },
  {
   "cell_type": "code",
   "execution_count": 105,
   "id": "38fa980c-3de1-4143-acd2-a0e1fee81f24",
   "metadata": {},
   "outputs": [
    {
     "data": {
      "text/html": [
       "<div>\n",
       "<style scoped>\n",
       "    .dataframe tbody tr th:only-of-type {\n",
       "        vertical-align: middle;\n",
       "    }\n",
       "\n",
       "    .dataframe tbody tr th {\n",
       "        vertical-align: top;\n",
       "    }\n",
       "\n",
       "    .dataframe thead th {\n",
       "        text-align: right;\n",
       "    }\n",
       "</style>\n",
       "<table border=\"1\" class=\"dataframe\">\n",
       "  <thead>\n",
       "    <tr style=\"text-align: right;\">\n",
       "      <th></th>\n",
       "      <th>Sales Person</th>\n",
       "      <th>Country</th>\n",
       "      <th>Product</th>\n",
       "      <th>Date</th>\n",
       "      <th>Amount</th>\n",
       "      <th>Boxes Shipped</th>\n",
       "    </tr>\n",
       "  </thead>\n",
       "  <tbody>\n",
       "    <tr>\n",
       "      <th>0</th>\n",
       "      <td>Jehu Rudeforth</td>\n",
       "      <td>UK</td>\n",
       "      <td>Mint Chip Choco</td>\n",
       "      <td>04-Jan-22</td>\n",
       "      <td>5320.000000</td>\n",
       "      <td>162.062557</td>\n",
       "    </tr>\n",
       "    <tr>\n",
       "      <th>1</th>\n",
       "      <td>Van Tuxwell</td>\n",
       "      <td>India</td>\n",
       "      <td>85% Dark Bars</td>\n",
       "      <td>01-Aug-22</td>\n",
       "      <td>7896.000000</td>\n",
       "      <td>94.000000</td>\n",
       "    </tr>\n",
       "    <tr>\n",
       "      <th>2</th>\n",
       "      <td>Gigi Bohling</td>\n",
       "      <td>India</td>\n",
       "      <td>Peanut Butter Cubes</td>\n",
       "      <td>07-Jul-22</td>\n",
       "      <td>4501.000000</td>\n",
       "      <td>91.000000</td>\n",
       "    </tr>\n",
       "    <tr>\n",
       "      <th>3</th>\n",
       "      <td>Jan Morforth</td>\n",
       "      <td>Australia</td>\n",
       "      <td>Peanut Butter Cubes</td>\n",
       "      <td>27-Apr-22</td>\n",
       "      <td>12726.000000</td>\n",
       "      <td>162.062557</td>\n",
       "    </tr>\n",
       "    <tr>\n",
       "      <th>4</th>\n",
       "      <td>Jehu Rudeforth</td>\n",
       "      <td>UK</td>\n",
       "      <td>Peanut Butter Cubes</td>\n",
       "      <td>24-Feb-22</td>\n",
       "      <td>13685.000000</td>\n",
       "      <td>184.000000</td>\n",
       "    </tr>\n",
       "    <tr>\n",
       "      <th>5</th>\n",
       "      <td>Van Tuxwell</td>\n",
       "      <td>India</td>\n",
       "      <td>Smooth Sliky Salty</td>\n",
       "      <td>06-Jun-22</td>\n",
       "      <td>5376.000000</td>\n",
       "      <td>162.062557</td>\n",
       "    </tr>\n",
       "    <tr>\n",
       "      <th>6</th>\n",
       "      <td>Oby Sorrel</td>\n",
       "      <td>UK</td>\n",
       "      <td>99% Dark &amp; Pure</td>\n",
       "      <td>25-Jan-22</td>\n",
       "      <td>13685.000000</td>\n",
       "      <td>176.000000</td>\n",
       "    </tr>\n",
       "    <tr>\n",
       "      <th>7</th>\n",
       "      <td>Gunar Cockshoot</td>\n",
       "      <td>Australia</td>\n",
       "      <td>After Nines</td>\n",
       "      <td>24-Mar-22</td>\n",
       "      <td>3080.000000</td>\n",
       "      <td>73.000000</td>\n",
       "    </tr>\n",
       "    <tr>\n",
       "      <th>8</th>\n",
       "      <td>Jehu Rudeforth</td>\n",
       "      <td>New Zealand</td>\n",
       "      <td>50% Dark Bites</td>\n",
       "      <td>20-Apr-22</td>\n",
       "      <td>3990.000000</td>\n",
       "      <td>59.000000</td>\n",
       "    </tr>\n",
       "    <tr>\n",
       "      <th>9</th>\n",
       "      <td>Brien Boise</td>\n",
       "      <td>Australia</td>\n",
       "      <td>99% Dark &amp; Pure</td>\n",
       "      <td>20-Apr-22</td>\n",
       "      <td>5667.718375</td>\n",
       "      <td>102.000000</td>\n",
       "    </tr>\n",
       "    <tr>\n",
       "      <th>10</th>\n",
       "      <td>Rafaelita Blaksland</td>\n",
       "      <td>UK</td>\n",
       "      <td>Smooth Sliky Salty</td>\n",
       "      <td>13-Jan-22</td>\n",
       "      <td>4704.000000</td>\n",
       "      <td>62.000000</td>\n",
       "    </tr>\n",
       "    <tr>\n",
       "      <th>11</th>\n",
       "      <td>Barr Faughny</td>\n",
       "      <td>USA</td>\n",
       "      <td>Orange Choco</td>\n",
       "      <td>10-Mar-22</td>\n",
       "      <td>3703.000000</td>\n",
       "      <td>162.062557</td>\n",
       "    </tr>\n",
       "  </tbody>\n",
       "</table>\n",
       "</div>"
      ],
      "text/plain": [
       "           Sales Person      Country              Product       Date  \\\n",
       "0        Jehu Rudeforth           UK      Mint Chip Choco  04-Jan-22   \n",
       "1           Van Tuxwell        India        85% Dark Bars  01-Aug-22   \n",
       "2          Gigi Bohling        India  Peanut Butter Cubes  07-Jul-22   \n",
       "3          Jan Morforth    Australia  Peanut Butter Cubes  27-Apr-22   \n",
       "4        Jehu Rudeforth           UK  Peanut Butter Cubes  24-Feb-22   \n",
       "5           Van Tuxwell        India   Smooth Sliky Salty  06-Jun-22   \n",
       "6            Oby Sorrel           UK      99% Dark & Pure  25-Jan-22   \n",
       "7       Gunar Cockshoot    Australia          After Nines  24-Mar-22   \n",
       "8        Jehu Rudeforth  New Zealand       50% Dark Bites  20-Apr-22   \n",
       "9           Brien Boise    Australia      99% Dark & Pure  20-Apr-22   \n",
       "10  Rafaelita Blaksland           UK   Smooth Sliky Salty  13-Jan-22   \n",
       "11         Barr Faughny          USA         Orange Choco  10-Mar-22   \n",
       "\n",
       "          Amount  Boxes Shipped  \n",
       "0    5320.000000     162.062557  \n",
       "1    7896.000000      94.000000  \n",
       "2    4501.000000      91.000000  \n",
       "3   12726.000000     162.062557  \n",
       "4   13685.000000     184.000000  \n",
       "5    5376.000000     162.062557  \n",
       "6   13685.000000     176.000000  \n",
       "7    3080.000000      73.000000  \n",
       "8    3990.000000      59.000000  \n",
       "9    5667.718375     102.000000  \n",
       "10   4704.000000      62.000000  \n",
       "11   3703.000000     162.062557  "
      ]
     },
     "execution_count": 105,
     "metadata": {},
     "output_type": "execute_result"
    }
   ],
   "source": [
    "df3.head(12)"
   ]
  },
  {
   "cell_type": "code",
   "execution_count": 107,
   "id": "57ad0189-f1b4-4baf-a1ba-6f6e61c9a95c",
   "metadata": {},
   "outputs": [],
   "source": [
    "#product doldururken her bir \"sales person\" için boş ürünü o kişinin en çok sattığı ürün ile doldurumu"
   ]
  },
  {
   "cell_type": "code",
   "execution_count": 115,
   "id": "269cba30-524d-4b24-b354-5f7eb0bcef59",
   "metadata": {},
   "outputs": [],
   "source": [
    "data = {\n",
    "    \"Product\": [\"A\",\"B\",\"A\",\"B\",\"A\",\"C\",\"C\"],\n",
    "    \"Amount\": [100,200,250,150,None,300,None]}\n",
    "df4 = pd.DataFrame(data)"
   ]
  },
  {
   "cell_type": "code",
   "execution_count": 117,
   "id": "d49815b6-56af-4581-b27f-0e559fee0bfa",
   "metadata": {},
   "outputs": [
    {
     "data": {
      "text/plain": [
       "200.0"
      ]
     },
     "execution_count": 117,
     "metadata": {},
     "output_type": "execute_result"
    }
   ],
   "source": [
    "df4[\"Amount\"].mean()"
   ]
  },
  {
   "cell_type": "code",
   "execution_count": 119,
   "id": "6c53bb8e-57d7-4399-9a0b-620c2c3dd46f",
   "metadata": {},
   "outputs": [
    {
     "data": {
      "text/plain": [
       "Product\n",
       "A    175.0\n",
       "B    175.0\n",
       "C    300.0\n",
       "Name: Amount, dtype: float64"
      ]
     },
     "execution_count": 119,
     "metadata": {},
     "output_type": "execute_result"
    }
   ],
   "source": [
    "df4.groupby(\"Product\")[\"Amount\"].mean()"
   ]
  },
  {
   "cell_type": "code",
   "execution_count": 121,
   "id": "bf1d6133-9231-4f1b-ae9d-de4d2446b300",
   "metadata": {},
   "outputs": [
    {
     "data": {
      "text/plain": [
       "1000.0"
      ]
     },
     "execution_count": 121,
     "metadata": {},
     "output_type": "execute_result"
    }
   ],
   "source": [
    "df4['Amount'].sum()"
   ]
  },
  {
   "cell_type": "code",
   "execution_count": 125,
   "id": "edbd70cf-e5c0-4c41-90b8-0321fd63875f",
   "metadata": {},
   "outputs": [
    {
     "data": {
      "text/plain": [
       "Product\n",
       "A    350.0\n",
       "B    350.0\n",
       "C    300.0\n",
       "Name: Amount, dtype: float64"
      ]
     },
     "execution_count": 125,
     "metadata": {},
     "output_type": "execute_result"
    }
   ],
   "source": [
    "df4.groupby(\"Product\")[\"Amount\"].sum()"
   ]
  },
  {
   "cell_type": "code",
   "execution_count": null,
   "id": "b1bbd65e-a0d3-457c-8c58-bc5add1ee786",
   "metadata": {},
   "outputs": [],
   "source": []
  }
 ],
 "metadata": {
  "kernelspec": {
   "display_name": "Python [conda env:base] *",
   "language": "python",
   "name": "conda-base-py"
  },
  "language_info": {
   "codemirror_mode": {
    "name": "ipython",
    "version": 3
   },
   "file_extension": ".py",
   "mimetype": "text/x-python",
   "name": "python",
   "nbconvert_exporter": "python",
   "pygments_lexer": "ipython3",
   "version": "3.10.9"
  }
 },
 "nbformat": 4,
 "nbformat_minor": 5
}
