{
 "cells": [
  {
   "cell_type": "code",
   "execution_count": 59,
   "id": "2b220b0c-70a2-4c7e-9a82-1567b56ddd83",
   "metadata": {},
   "outputs": [
    {
     "name": "stdout",
     "output_type": "stream",
     "text": [
      "[1 2 3 4 5]\n"
     ]
    }
   ],
   "source": [
    "import numpy as np\n",
    "arr = np.array([1, 2, 3, 4, 5]) # NumPy dizisi oluşturur.\n",
    "print(arr)"
   ]
  },
  {
   "cell_type": "code",
   "execution_count": 61,
   "id": "947bf086-67c4-4295-913f-9db9b4f884ee",
   "metadata": {},
   "outputs": [
    {
     "name": "stdout",
     "output_type": "stream",
     "text": [
      "[ 1  3  5  7  9 11 13 15 17 19 21 23 25 27 29 31 33]\n"
     ]
    }
   ],
   "source": [
    "arr = np.arange(1, 35, 2)  # 1'den 10'a kadar 2 artış yapar\n",
    "print(arr)"
   ]
  },
  {
   "cell_type": "code",
   "execution_count": 63,
   "id": "d36d3998-2424-415d-abf1-bd44d9504290",
   "metadata": {},
   "outputs": [
    {
     "name": "stdout",
     "output_type": "stream",
     "text": [
      "[[0.32594106 0.48690187]\n",
      " [0.50425096 0.36945855]]\n"
     ]
    }
   ],
   "source": [
    "arr = np.random.rand(2, 2)  # 2x2 matriste 0 ile 1 arasında random sayı üretir\n",
    "print(arr)"
   ]
  },
  {
   "cell_type": "code",
   "execution_count": 65,
   "id": "93b162c7-109f-4692-a13e-e3ba0f9eb4ce",
   "metadata": {},
   "outputs": [
    {
     "data": {
      "text/plain": [
       "0.42163810956272685"
      ]
     },
     "execution_count": 65,
     "metadata": {},
     "output_type": "execute_result"
    }
   ],
   "source": [
    "np.mean(arr) # dizinin ortalamasını hesaplar."
   ]
  },
  {
   "cell_type": "code",
   "execution_count": 67,
   "id": "d4c1b24e-cc53-4529-93d9-677e5858cba1",
   "metadata": {},
   "outputs": [
    {
     "data": {
      "text/plain": [
       "1.6865524382509074"
      ]
     },
     "execution_count": 67,
     "metadata": {},
     "output_type": "execute_result"
    }
   ],
   "source": [
    "np.sum(arr)  # Toplamını hesaplar"
   ]
  },
  {
   "cell_type": "code",
   "execution_count": 69,
   "id": "31097ce5-583a-40e5-8fbb-d9bd727f1d56",
   "metadata": {},
   "outputs": [
    {
     "name": "stdout",
     "output_type": "stream",
     "text": [
      "[ 0.  7. 14. 21. 28. 35. 42.]\n"
     ]
    }
   ],
   "source": [
    "arr = np.linspace(0, 42, 7)  # 0 ile 42 arasında eşit aralıklarla sayı üretir.\n",
    "print(arr)"
   ]
  },
  {
   "cell_type": "code",
   "execution_count": 71,
   "id": "059b7729-62bc-4dab-a6be-16c6a9746e93",
   "metadata": {},
   "outputs": [
    {
     "name": "stdout",
     "output_type": "stream",
     "text": [
      "[[ 0  1  2  3  4]\n",
      " [ 5  6  7  8  9]\n",
      " [10 11 12 13 14]\n",
      " [15 16 17 18 19]\n",
      " [20 21 22 23 24]]\n"
     ]
    }
   ],
   "source": [
    "arr = np.arange(25).reshape(5, 5)  #25'e kadar 5 satır, 5 sütun dizi oluşturur.\n",
    "print(arr)"
   ]
  },
  {
   "cell_type": "code",
   "execution_count": 73,
   "id": "622159ec-31a3-4193-b8ab-c5a13a20d087",
   "metadata": {},
   "outputs": [
    {
     "name": "stdout",
     "output_type": "stream",
     "text": [
      "[0 0 0 1 1]\n"
     ]
    }
   ],
   "source": [
    "arr = np.array([10, 20, 30, 40, 50])\n",
    "new_arr = np.where(arr > 30, 1, 0)  # 30'dan büyük olanlara 1, küçük olanlara 0 atar\n",
    "print(new_arr)"
   ]
  },
  {
   "cell_type": "code",
   "execution_count": 75,
   "id": "f25a1917-9437-46c7-81ef-edc9176412eb",
   "metadata": {},
   "outputs": [
    {
     "name": "stdout",
     "output_type": "stream",
     "text": [
      "[[1 4]\n",
      " [2 5]\n",
      " [3 6]]\n"
     ]
    }
   ],
   "source": [
    "arr = np.array([[1, 2, 3], [4, 5, 6]])\n",
    "print(arr.T)  # Transpozesini alır"
   ]
  },
  {
   "cell_type": "code",
   "execution_count": 77,
   "id": "d587a26a-e273-4bea-999c-a482c7516699",
   "metadata": {},
   "outputs": [
    {
     "name": "stdout",
     "output_type": "stream",
     "text": [
      "6\n",
      "[2 5]\n"
     ]
    }
   ],
   "source": [
    "print(arr[1, 2])  # 2. satır, 3. sütuna erişim sağlar\n",
    "print(arr[:, 1])  # Tüm satırların 2. sütununu alır"
   ]
  }
 ],
 "metadata": {
  "kernelspec": {
   "display_name": "Python [conda env:base] *",
   "language": "python",
   "name": "conda-base-py"
  },
  "language_info": {
   "codemirror_mode": {
    "name": "ipython",
    "version": 3
   },
   "file_extension": ".py",
   "mimetype": "text/x-python",
   "name": "python",
   "nbconvert_exporter": "python",
   "pygments_lexer": "ipython3",
   "version": "3.10.9"
  }
 },
 "nbformat": 4,
 "nbformat_minor": 5
}
