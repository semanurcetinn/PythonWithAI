{
 "cells": [
  {
   "cell_type": "markdown",
   "id": "c4d9ecd6-514f-4105-9853-1267551114e0",
   "metadata": {},
   "source": [
    "Numpy (Numeric Python)"
   ]
  },
  {
   "cell_type": "code",
   "execution_count": 5,
   "id": "8c56da7c-35dc-4dd1-b6e7-2eb7b9ece3f8",
   "metadata": {},
   "outputs": [
    {
     "name": "stdout",
     "output_type": "stream",
     "text": [
      "Requirement already satisfied: numpy in c:\\users\\user\\anaconda3\\lib\\site-packages (1.23.5)\n"
     ]
    }
   ],
   "source": [
    "!pip install numpy"
   ]
  },
  {
   "cell_type": "code",
   "execution_count": 6,
   "id": "78620467-0f67-45d8-9f8a-af0277fc0d0f",
   "metadata": {},
   "outputs": [
    {
     "data": {
      "text/plain": [
       "array([10, 20, 30, 40, 50])"
      ]
     },
     "execution_count": 6,
     "metadata": {},
     "output_type": "execute_result"
    }
   ],
   "source": [
    "import numpy as np\n",
    "\n",
    "n1 = np.array([10,20,30,40,50])\n",
    "n1"
   ]
  },
  {
   "cell_type": "code",
   "execution_count": 7,
   "id": "a8c39412-e6ee-4b26-8755-143634bd55e1",
   "metadata": {},
   "outputs": [
    {
     "data": {
      "text/plain": [
       "[1, 2, 3, 4, 5]"
      ]
     },
     "execution_count": 7,
     "metadata": {},
     "output_type": "execute_result"
    }
   ],
   "source": [
    "p1 = [1,2,3,4,5]\n",
    "p1"
   ]
  },
  {
   "cell_type": "code",
   "execution_count": 8,
   "id": "c9540be6-c391-4aae-a92d-7fee9f96586e",
   "metadata": {},
   "outputs": [
    {
     "data": {
      "text/plain": [
       "numpy.ndarray"
      ]
     },
     "execution_count": 8,
     "metadata": {},
     "output_type": "execute_result"
    }
   ],
   "source": [
    "type(n1)"
   ]
  },
  {
   "cell_type": "code",
   "execution_count": 9,
   "id": "53f6e929-440c-45d9-9aeb-53f4680e872c",
   "metadata": {},
   "outputs": [
    {
     "data": {
      "text/plain": [
       "list"
      ]
     },
     "execution_count": 9,
     "metadata": {},
     "output_type": "execute_result"
    }
   ],
   "source": [
    "type(p1)"
   ]
  },
  {
   "cell_type": "code",
   "execution_count": 10,
   "id": "581e390a-c314-42fc-97b6-5640931dc120",
   "metadata": {},
   "outputs": [],
   "source": [
    "py_list = list(range(1_000_000))\n",
    "np_array = np.array(py_list)"
   ]
  },
  {
   "cell_type": "code",
   "execution_count": 11,
   "id": "6b4e6b57-3086-40ec-b548-a00f2708019f",
   "metadata": {},
   "outputs": [
    {
     "name": "stdout",
     "output_type": "stream",
     "text": [
      "79.8 ms ± 4.65 ms per loop (mean ± std. dev. of 7 runs, 10 loops each)\n"
     ]
    }
   ],
   "source": [
    "%%timeit\n",
    "[x+1 for x in py_list]"
   ]
  },
  {
   "cell_type": "code",
   "execution_count": 12,
   "id": "8aa22c28-97f8-41a2-b0ac-c32d31d7cddf",
   "metadata": {},
   "outputs": [
    {
     "name": "stdout",
     "output_type": "stream",
     "text": [
      "1.51 ms ± 68.8 µs per loop (mean ± std. dev. of 7 runs, 1,000 loops each)\n"
     ]
    }
   ],
   "source": [
    "%%timeit\n",
    "np_array+ 1"
   ]
  },
  {
   "cell_type": "code",
   "execution_count": 13,
   "id": "77887d51-6cfd-4cae-8a84-7c3b30164c1d",
   "metadata": {},
   "outputs": [],
   "source": [
    "### scalar, vector, matrix, tensor\n",
    "### 1d, 2d, 3d ndarrayler\n",
    "### transpoz, diskr"
   ]
  },
  {
   "cell_type": "code",
   "execution_count": 15,
   "id": "ce1a57ad-078a-4edc-9959-fca129be79ae",
   "metadata": {},
   "outputs": [
    {
     "data": {
      "text/plain": [
       "array(1)"
      ]
     },
     "execution_count": 15,
     "metadata": {},
     "output_type": "execute_result"
    }
   ],
   "source": [
    "scalar_arr = np.array(1)\n",
    "scalar_arr"
   ]
  },
  {
   "cell_type": "code",
   "execution_count": 17,
   "id": "6adec0b6-740d-4cb8-938b-fcab4c25d29e",
   "metadata": {},
   "outputs": [
    {
     "data": {
      "text/plain": [
       "array([10, 20, 30])"
      ]
     },
     "execution_count": 17,
     "metadata": {},
     "output_type": "execute_result"
    }
   ],
   "source": [
    "vector_arr = np.array([10, 20, 30])\n",
    "vector_arr"
   ]
  },
  {
   "cell_type": "code",
   "execution_count": 19,
   "id": "4e299879-18c4-4994-95ba-f7b9c6332077",
   "metadata": {},
   "outputs": [
    {
     "data": {
      "text/plain": [
       "1"
      ]
     },
     "execution_count": 19,
     "metadata": {},
     "output_type": "execute_result"
    }
   ],
   "source": [
    "#arrayin boyutunu öğrenmek\n",
    "# ndim -> n dimension\n",
    "vector_arr.ndim"
   ]
  },
  {
   "cell_type": "code",
   "execution_count": 31,
   "id": "eb38fba0-15b2-42c2-a699-b3cc70cbf793",
   "metadata": {},
   "outputs": [
    {
     "data": {
      "text/plain": [
       "array([50, 60, 70])"
      ]
     },
     "execution_count": 31,
     "metadata": {},
     "output_type": "execute_result"
    }
   ],
   "source": [
    "vector_arr2 = np.array([50, 60, 70])\n",
    "vector_arr2"
   ]
  },
  {
   "cell_type": "code",
   "execution_count": 33,
   "id": "4be7c15e-0c09-41a1-8006-87f8e48f05c4",
   "metadata": {},
   "outputs": [
    {
     "data": {
      "text/plain": [
       "array([ 60,  80, 100])"
      ]
     },
     "execution_count": 33,
     "metadata": {},
     "output_type": "execute_result"
    }
   ],
   "source": [
    "#arrayler arası işlemler (vector)\n",
    "result = vector_arr + vector_arr2\n",
    "result"
   ]
  },
  {
   "cell_type": "markdown",
   "id": "84d19231-18ea-41ab-aa43-5d68bb354964",
   "metadata": {},
   "source": [
    "(Shape) şekil arrayler arası işlem için uyuşma sağlamalıdır."
   ]
  },
  {
   "cell_type": "code",
   "execution_count": 38,
   "id": "794d3693-ac83-4fe1-933b-979c52f208e0",
   "metadata": {},
   "outputs": [
    {
     "ename": "ValueError",
     "evalue": "operands could not be broadcast together with shapes (2,) (3,) ",
     "output_type": "error",
     "traceback": [
      "\u001b[1;31m---------------------------------------------------------------------------\u001b[0m",
      "\u001b[1;31mValueError\u001b[0m                                Traceback (most recent call last)",
      "Cell \u001b[1;32mIn[38], line 4\u001b[0m\n\u001b[0;32m      1\u001b[0m arr1 \u001b[38;5;241m=\u001b[39m np\u001b[38;5;241m.\u001b[39marray([\u001b[38;5;241m10\u001b[39m, \u001b[38;5;241m20\u001b[39m])\n\u001b[0;32m      2\u001b[0m arr2 \u001b[38;5;241m=\u001b[39m np\u001b[38;5;241m.\u001b[39marray([\u001b[38;5;241m30\u001b[39m, \u001b[38;5;241m40\u001b[39m, \u001b[38;5;241m50\u001b[39m])\n\u001b[1;32m----> 4\u001b[0m arr1\u001b[38;5;241m.\u001b[39mshape, arr2\u001b[38;5;241m.\u001b[39mshape, \u001b[43marr1\u001b[49m\u001b[43m \u001b[49m\u001b[38;5;241;43m+\u001b[39;49m\u001b[43m \u001b[49m\u001b[43marr2\u001b[49m\n",
      "\u001b[1;31mValueError\u001b[0m: operands could not be broadcast together with shapes (2,) (3,) "
     ]
    }
   ],
   "source": [
    "arr1 = np.array([10, 20])\n",
    "arr2 = np.array([30, 40, 50])\n",
    "\n",
    "arr1.shape, arr2.shape, arr1 + arr2"
   ]
  },
  {
   "cell_type": "code",
   "execution_count": 44,
   "id": "5b5a5b5f-4990-497d-8f9c-2a32167d3e19",
   "metadata": {},
   "outputs": [
    {
     "data": {
      "text/plain": [
       "(2, (2, 3))"
      ]
     },
     "execution_count": 44,
     "metadata": {},
     "output_type": "execute_result"
    }
   ],
   "source": [
    "arr3 = np.array(\n",
    "    [\n",
    "        [10, 20, 30],\n",
    "        [30, 40, 50]\n",
    "    ]\n",
    ")\n",
    "arr3.ndim, arr3.shape"
   ]
  },
  {
   "cell_type": "code",
   "execution_count": 46,
   "id": "1f90b6de-8563-42dc-b9a8-79c72938aa43",
   "metadata": {},
   "outputs": [
    {
     "data": {
      "text/plain": [
       "(2, (2, 3))"
      ]
     },
     "execution_count": 46,
     "metadata": {},
     "output_type": "execute_result"
    }
   ],
   "source": [
    "arr4 = np.array(\n",
    "    [\n",
    "        [60, 70, 80],\n",
    "        [90, 100, 110]\n",
    "    ]\n",
    ")\n",
    "arr4.ndim, arr4.shape"
   ]
  },
  {
   "cell_type": "code",
   "execution_count": 52,
   "id": "c5cde681-49f2-4332-ad69-406795c673c7",
   "metadata": {},
   "outputs": [
    {
     "data": {
      "text/plain": [
       "array([[ 70,  90, 110],\n",
       "       [120, 140, 160]])"
      ]
     },
     "execution_count": 52,
     "metadata": {},
     "output_type": "execute_result"
    }
   ],
   "source": [
    "result = arr3 + arr4\n",
    "result"
   ]
  },
  {
   "cell_type": "code",
   "execution_count": 56,
   "id": "ca2c1c3d-fa5a-4ff6-b683-39b2bcd02e2c",
   "metadata": {},
   "outputs": [
    {
     "data": {
      "text/plain": [
       "array([[50, 50, 50],\n",
       "       [60, 60, 60]])"
      ]
     },
     "execution_count": 56,
     "metadata": {},
     "output_type": "execute_result"
    }
   ],
   "source": [
    "result = arr4 - arr3\n",
    "result"
   ]
  },
  {
   "cell_type": "code",
   "execution_count": 58,
   "id": "4651a0bd-848f-4b4f-8bc2-16b574c97101",
   "metadata": {},
   "outputs": [
    {
     "data": {
      "text/plain": [
       "(2, (3, 2))"
      ]
     },
     "execution_count": 58,
     "metadata": {},
     "output_type": "execute_result"
    }
   ],
   "source": [
    "arr5 = np.array(\n",
    "    [\n",
    "        [30, 40],\n",
    "        [50, 60],\n",
    "        [70, 80]\n",
    "    ]\n",
    ")\n",
    "arr5.ndim, arr5.shape"
   ]
  },
  {
   "cell_type": "code",
   "execution_count": 64,
   "id": "fd813b0d-385d-4024-8d9e-19b25490d96b",
   "metadata": {},
   "outputs": [
    {
     "ename": "ValueError",
     "evalue": "operands could not be broadcast together with shapes (2,3) (3,2) ",
     "output_type": "error",
     "traceback": [
      "\u001b[1;31m---------------------------------------------------------------------------\u001b[0m",
      "\u001b[1;31mValueError\u001b[0m                                Traceback (most recent call last)",
      "Cell \u001b[1;32mIn[64], line 3\u001b[0m\n\u001b[0;32m      1\u001b[0m \u001b[38;5;66;03m# (2,3) shape ile (3,2) sahpe matris toplamı?\u001b[39;00m\n\u001b[0;32m      2\u001b[0m \u001b[38;5;66;03m#sahpelerin uygun olması lazım\u001b[39;00m\n\u001b[1;32m----> 3\u001b[0m \u001b[43marr4\u001b[49m\u001b[43m \u001b[49m\u001b[38;5;241;43m+\u001b[39;49m\u001b[43m \u001b[49m\u001b[43marr5\u001b[49m\n",
      "\u001b[1;31mValueError\u001b[0m: operands could not be broadcast together with shapes (2,3) (3,2) "
     ]
    }
   ],
   "source": [
    "# (2,3) shape ile (3,2) sahpe matris toplamı?\n",
    "#sahpelerin uygun olması lazım\n",
    "arr4 + arr5"
   ]
  },
  {
   "cell_type": "code",
   "execution_count": 66,
   "id": "864c3f10-e9a7-4061-8179-589e8114509b",
   "metadata": {},
   "outputs": [
    {
     "data": {
      "text/plain": [
       "array([[30, 40, 50],\n",
       "       [60, 70, 80]])"
      ]
     },
     "execution_count": 66,
     "metadata": {},
     "output_type": "execute_result"
    }
   ],
   "source": [
    "#reshape işlemi\n",
    "arr5.reshape(2,3)"
   ]
  },
  {
   "cell_type": "code",
   "execution_count": 68,
   "id": "b42d4d43-3954-47c4-95dd-7cf575146ab8",
   "metadata": {},
   "outputs": [
    {
     "data": {
      "text/plain": [
       "array([[1800, 2800, 4000],\n",
       "       [5400, 7000, 8800]])"
      ]
     },
     "execution_count": 68,
     "metadata": {},
     "output_type": "execute_result"
    }
   ],
   "source": [
    "arr4 * arr5.reshape(2,3)"
   ]
  },
  {
   "cell_type": "code",
   "execution_count": 78,
   "id": "ce4cbf6a-9c00-4cfb-b6b4-d0436e2a4b52",
   "metadata": {},
   "outputs": [
    {
     "data": {
      "text/plain": [
       "array([[10900, 13000],\n",
       "       [15400, 18400]])"
      ]
     },
     "execution_count": 78,
     "metadata": {},
     "output_type": "execute_result"
    }
   ],
   "source": [
    "# dot product -> iç çarpım, nokta çarpım\n",
    "#arr4.shape, arr5.shape\n",
    "# ilk  matrisin sütun sayısı, ikinci matrisin satır sayısına eşit olmalı.\n",
    "result = np.dot(arr4, arr5)\n",
    "result"
   ]
  },
  {
   "cell_type": "code",
   "execution_count": 81,
   "id": "e63b21ba-5746-4c14-ae9c-e2a286798a78",
   "metadata": {},
   "outputs": [
    {
     "data": {
      "text/plain": [
       "(array([[ 60,  70,  80],\n",
       "        [ 90, 100, 110]]),\n",
       " array([[30, 40],\n",
       "        [50, 60],\n",
       "        [70, 80]]))"
      ]
     },
     "execution_count": 81,
     "metadata": {},
     "output_type": "execute_result"
    }
   ],
   "source": [
    "arr4, arr5"
   ]
  },
  {
   "cell_type": "code",
   "execution_count": 83,
   "id": "f384a865-1473-4376-9797-cb33f1d41a8c",
   "metadata": {},
   "outputs": [],
   "source": [
    "# dot product nerede ihtiyaç duyulur? -> benxerlik, projeksiyon, lineer kombinasyon"
   ]
  },
  {
   "cell_type": "markdown",
   "id": "068d221f-41a1-40a9-9f32-e29f50b0d751",
   "metadata": {},
   "source": [
    "Tensor"
   ]
  },
  {
   "cell_type": "code",
   "execution_count": 100,
   "id": "ed2585c3-3403-4f91-ba6b-fc0fa3890957",
   "metadata": {},
   "outputs": [
    {
     "data": {
      "text/plain": [
       "(3, (4, 3, 2))"
      ]
     },
     "execution_count": 100,
     "metadata": {},
     "output_type": "execute_result"
    }
   ],
   "source": [
    "tensor1 = np.array(\n",
    "    [\n",
    "        [ [10,20], [30,40], [50,60] ],\n",
    "        [ [70,80], [90,100], [110,120] ],\n",
    "        [ [70,80], [90,100], [110,120] ],\n",
    "        [ [70,80], [90,100], [110,120] ]\n",
    "    ]\n",
    ")\n",
    "tensor1.ndim, tensor1.shape"
   ]
  },
  {
   "cell_type": "code",
   "execution_count": 102,
   "id": "fae245d4-2ede-45ba-93c1-692122ec44c8",
   "metadata": {},
   "outputs": [
    {
     "data": {
      "text/plain": [
       "24"
      ]
     },
     "execution_count": 102,
     "metadata": {},
     "output_type": "execute_result"
    }
   ],
   "source": [
    "tensor1.size"
   ]
  },
  {
   "cell_type": "code",
   "execution_count": 108,
   "id": "6d4187d6-f8a3-43e7-a479-1f396b805e6b",
   "metadata": {},
   "outputs": [
    {
     "data": {
      "text/plain": [
       "array([[[166,  16, 242],\n",
       "        [105, 221, 180],\n",
       "        [ 58,  59, 150],\n",
       "        ...,\n",
       "        [243,  26, 169],\n",
       "        [ 88,   6,  25],\n",
       "        [129, 229,  75]],\n",
       "\n",
       "       [[ 25,  14, 100],\n",
       "        [192,  45,  89],\n",
       "        [ 28,  41, 162],\n",
       "        ...,\n",
       "        [251, 127, 138],\n",
       "        [225, 205, 144],\n",
       "        [ 81, 180, 159]],\n",
       "\n",
       "       [[244,  33, 219],\n",
       "        [102,  67, 198],\n",
       "        [154, 115, 229],\n",
       "        ...,\n",
       "        [  9, 138,  13],\n",
       "        [110, 205,  94],\n",
       "        [159, 239,  37]],\n",
       "\n",
       "       ...,\n",
       "\n",
       "       [[219,  72, 145],\n",
       "        [202,  20,  98],\n",
       "        [138, 191, 149],\n",
       "        ...,\n",
       "        [ 30, 105,  55],\n",
       "        [122, 165, 196],\n",
       "        [ 34, 242,  65]],\n",
       "\n",
       "       [[ 20, 193, 217],\n",
       "        [213, 222, 218],\n",
       "        [ 12,  65,  85],\n",
       "        ...,\n",
       "        [174, 184, 157],\n",
       "        [158,  79,  88],\n",
       "        [ 22, 186,  28]],\n",
       "\n",
       "       [[ 45, 168, 203],\n",
       "        [159, 211,  43],\n",
       "        [188, 106,  70],\n",
       "        ...,\n",
       "        [ 52,   1, 236],\n",
       "        [171, 216,  26],\n",
       "        [ 22, 108, 119]]])"
      ]
     },
     "execution_count": 108,
     "metadata": {},
     "output_type": "execute_result"
    }
   ],
   "source": [
    "tensor2 = np.random.randint(0, 256, (100,100,3))\n",
    "tensor2"
   ]
  },
  {
   "cell_type": "code",
   "execution_count": 110,
   "id": "2fd44796-2c4d-48c6-aea4-5424aa3461ac",
   "metadata": {},
   "outputs": [],
   "source": [
    "from PIL import Image"
   ]
  },
  {
   "cell_type": "code",
   "execution_count": 112,
   "id": "f8434bd9-f8d3-418e-9d9f-32c613dec818",
   "metadata": {},
   "outputs": [],
   "source": [
    "image = Image.open(\"kedi.jpg\")"
   ]
  },
  {
   "cell_type": "code",
   "execution_count": 116,
   "id": "a2fc4397-d213-4a22-ae4b-406ba52bf443",
   "metadata": {},
   "outputs": [],
   "source": [
    "image_array = np.array(image)"
   ]
  },
  {
   "cell_type": "code",
   "execution_count": 120,
   "id": "afabe3c9-560d-4f73-8ad1-c9a8a5079bf1",
   "metadata": {},
   "outputs": [
    {
     "data": {
      "text/plain": [
       "(1500, 1000, 3)"
      ]
     },
     "execution_count": 120,
     "metadata": {},
     "output_type": "execute_result"
    }
   ],
   "source": [
    "image_array.shape"
   ]
  },
  {
   "cell_type": "code",
   "execution_count": 122,
   "id": "33e4efdc-c112-4ac7-b293-1f20c847bd20",
   "metadata": {},
   "outputs": [
    {
     "data": {
      "text/plain": [
       "array([[[ 92,  87,  84],\n",
       "        [ 92,  87,  84],\n",
       "        [ 92,  87,  84],\n",
       "        ...,\n",
       "        [ 96, 101, 104],\n",
       "        [ 99, 104, 107],\n",
       "        [101, 106, 109]],\n",
       "\n",
       "       [[ 92,  87,  84],\n",
       "        [ 92,  87,  84],\n",
       "        [ 92,  87,  84],\n",
       "        ...,\n",
       "        [ 96, 101, 104],\n",
       "        [ 99, 104, 107],\n",
       "        [101, 106, 109]],\n",
       "\n",
       "       [[ 92,  87,  84],\n",
       "        [ 92,  87,  84],\n",
       "        [ 92,  87,  84],\n",
       "        ...,\n",
       "        [ 96, 101, 104],\n",
       "        [ 99, 104, 107],\n",
       "        [101, 106, 109]],\n",
       "\n",
       "       ...,\n",
       "\n",
       "       [[  2,   2,   4],\n",
       "        [  2,   2,   4],\n",
       "        [  2,   2,   4],\n",
       "        ...,\n",
       "        [ 35,  25,  23],\n",
       "        [ 35,  25,  23],\n",
       "        [ 35,  25,  23]],\n",
       "\n",
       "       [[  2,   2,   4],\n",
       "        [  2,   2,   4],\n",
       "        [  2,   2,   4],\n",
       "        ...,\n",
       "        [ 36,  26,  24],\n",
       "        [ 36,  26,  24],\n",
       "        [ 36,  26,  24]],\n",
       "\n",
       "       [[  3,   3,   5],\n",
       "        [  3,   3,   5],\n",
       "        [  3,   3,   5],\n",
       "        ...,\n",
       "        [ 37,  27,  25],\n",
       "        [ 37,  27,  25],\n",
       "        [ 37,  27,  25]]], dtype=uint8)"
      ]
     },
     "execution_count": 122,
     "metadata": {},
     "output_type": "execute_result"
    }
   ],
   "source": [
    "image_array"
   ]
  },
  {
   "cell_type": "code",
   "execution_count": null,
   "id": "25b4259a-55b2-405c-89ce-e5da00377712",
   "metadata": {},
   "outputs": [],
   "source": []
  }
 ],
 "metadata": {
  "kernelspec": {
   "display_name": "Python [conda env:base] *",
   "language": "python",
   "name": "conda-base-py"
  },
  "language_info": {
   "codemirror_mode": {
    "name": "ipython",
    "version": 3
   },
   "file_extension": ".py",
   "mimetype": "text/x-python",
   "name": "python",
   "nbconvert_exporter": "python",
   "pygments_lexer": "ipython3",
   "version": "3.10.9"
  }
 },
 "nbformat": 4,
 "nbformat_minor": 5
}
